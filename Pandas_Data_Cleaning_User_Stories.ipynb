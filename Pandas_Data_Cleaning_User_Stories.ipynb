{
 "cells": [
  {
   "cell_type": "markdown",
   "metadata": {},
   "source": [
    "## Project: Data Cleaning with Pandas\n",
    "\n",
    "#### Below will be a series of user stories, followed by an empty Python code block\n",
    "* These user stories will go through the process of importing, cleaning, and exporting the included `dirty_cars_dataset.csv` file\n",
    "* Be sure to read each question carefully, and to test and debug your code to ensure the user story is completed correctly!\n"
   ]
  },
  {
   "cell_type": "markdown",
   "metadata": {},
   "source": [
    "### As a Data Analyst, I want to set up the proper imports so I have access to the Pandas library"
   ]
  },
  {
   "cell_type": "code",
   "execution_count": 1,
   "metadata": {},
   "outputs": [],
   "source": [
    "import pandas as pd"
   ]
  },
  {
   "cell_type": "markdown",
   "metadata": {},
   "source": [
    "### As a Data Analyst, I want to import and store the `dirty_cars_dataset.csv` file in a variable\n",
    "✅ I want to use the `index` column from this .csv file as the `index column` of my DataFrame"
   ]
  },
  {
   "cell_type": "code",
   "execution_count": 2,
   "metadata": {},
   "outputs": [
    {
     "name": "stdout",
     "output_type": "stream",
     "text": [
      "    index      company   body-style  wheel-base  length engine-type  \\\n",
      "0       0  alfa-romero  convertible        88.6   168.8        dohc   \n",
      "1       1  alfa-romero  convertible        88.6   168.8        dohc   \n",
      "2       2  alfa-romero    hatchback        94.5   171.2        ohcv   \n",
      "3       3         audi        sedan        99.8   176.6         ohc   \n",
      "4       4         audi        sedan        99.4   176.6         ohc   \n",
      "..    ...          ...          ...         ...     ...         ...   \n",
      "59     82   volkswagen        sedan        97.3   171.7         ohc   \n",
      "60     83   volkswagen        sedan        97.3   171.7         ohc   \n",
      "61     86   volkswagen        sedan        97.3   171.7         ohc   \n",
      "62     87        volvo        sedan       104.3   188.8         ohc   \n",
      "63     88        volvo        wagon       104.3   188.8         ohc   \n",
      "\n",
      "   num-of-cylinders  horsepower  average-mileage      price  \n",
      "0              four         111               21    13495.0  \n",
      "1              four         111               21    16500.0  \n",
      "2               six         154               19  1650000.0  \n",
      "3              four         102               24    13950.0  \n",
      "4              five         115               18    17450.0  \n",
      "..              ...         ...              ...        ...  \n",
      "59             four          52               37     7995.0  \n",
      "60             four          52               37     7995.0  \n",
      "61             four         100               26     9995.0  \n",
      "62             four         114               23    12940.0  \n",
      "63             four         114               23    13415.0  \n",
      "\n",
      "[64 rows x 10 columns]\n"
     ]
    }
   ],
   "source": [
    "dirty_cars_df = pd.read_csv(\"dirty_cars_dataset.csv\")\n",
    "print(dirty_cars_df)"
   ]
  },
  {
   "cell_type": "markdown",
   "metadata": {},
   "source": [
    "### As a Data Analyst, I want to view the **information** about my new DataFrame to answer the following questions:\n",
    "##### Enter your responses in the Markdown block below"
   ]
  },
  {
   "cell_type": "markdown",
   "metadata": {},
   "source": [
    "* How many entries are in this DataFrame: \n",
    "* How many columns are in this DataFrame:\n",
    "* Which column(s) contain null values in this DataFrame:"
   ]
  },
  {
   "attachments": {},
   "cell_type": "markdown",
   "metadata": {},
   "source": [
    "This DataFrame contains 64 rows and 10 columns.\n",
    "The price column appears to contain null values in this DataFrame."
   ]
  },
  {
   "cell_type": "markdown",
   "metadata": {},
   "source": [
    "### As a Data Analyst, I want to to remove any null values from the DataFrame\n",
    "✅ I want to **create a new DataFrame variable** when I remove these null values<br>\n",
    "✅ Then, I want to display the **information** about my new DataFrame, to confirm the null values were successfully removed"
   ]
  },
  {
   "cell_type": "code",
   "execution_count": 13,
   "metadata": {},
   "outputs": [
    {
     "name": "stdout",
     "output_type": "stream",
     "text": [
      "<class 'pandas.core.frame.DataFrame'>\n",
      "Int64Index: 61 entries, 0 to 63\n",
      "Data columns (total 10 columns):\n",
      " #   Column            Non-Null Count  Dtype  \n",
      "---  ------            --------------  -----  \n",
      " 0   index             61 non-null     int64  \n",
      " 1   company           61 non-null     object \n",
      " 2   body-style        61 non-null     object \n",
      " 3   wheel-base        61 non-null     float64\n",
      " 4   length            61 non-null     float64\n",
      " 5   engine-type       61 non-null     object \n",
      " 6   num-of-cylinders  61 non-null     object \n",
      " 7   horsepower        61 non-null     int64  \n",
      " 8   average-mileage   61 non-null     int64  \n",
      " 9   price             61 non-null     float64\n",
      "dtypes: float64(3), int64(3), object(4)\n",
      "memory usage: 5.2+ KB\n"
     ]
    }
   ],
   "source": [
    "nonnull_dirty_cars_df = dirty_cars_df.dropna()\n",
    "nonnull_dirty_cars_df.info()\n",
    "# print(nonnull_dirty_cars_df)"
   ]
  },
  {
   "cell_type": "markdown",
   "metadata": {},
   "source": [
    "### As a Data Analyst, I want to check if there are any **duplicate rows** within my DataFrame"
   ]
  },
  {
   "cell_type": "code",
   "execution_count": 14,
   "metadata": {},
   "outputs": [
    {
     "name": "stdout",
     "output_type": "stream",
     "text": [
      "0     False\n",
      "1     False\n",
      "2     False\n",
      "3     False\n",
      "4     False\n",
      "5     False\n",
      "6     False\n",
      "7     False\n",
      "8     False\n",
      "9     False\n",
      "10    False\n",
      "11    False\n",
      "12    False\n",
      "13    False\n",
      "14    False\n",
      "15    False\n",
      "16    False\n",
      "17    False\n",
      "18    False\n",
      "19    False\n",
      "20    False\n",
      "21    False\n",
      "22    False\n",
      "25    False\n",
      "26    False\n",
      "27    False\n",
      "28    False\n",
      "29    False\n",
      "30    False\n",
      "31    False\n",
      "32    False\n",
      "33    False\n",
      "34    False\n",
      "35    False\n",
      "36    False\n",
      "37    False\n",
      "38    False\n",
      "39    False\n",
      "40    False\n",
      "41    False\n",
      "42    False\n",
      "43    False\n",
      "44    False\n",
      "45    False\n",
      "46    False\n",
      "47    False\n",
      "48    False\n",
      "50    False\n",
      "51    False\n",
      "52    False\n",
      "53    False\n",
      "54    False\n",
      "55    False\n",
      "56    False\n",
      "57    False\n",
      "58    False\n",
      "59    False\n",
      "60    False\n",
      "61    False\n",
      "62    False\n",
      "63    False\n"
     ]
    }
   ],
   "source": [
    "find_dupes_df = nonnull_dirty_cars_df.duplicated()\n",
    "print(find_dupes_df.to_string())\n"
   ]
  },
  {
   "cell_type": "markdown",
   "metadata": {},
   "source": [
    "### As a Data Analyst, I want to **remove** any duplicate values from the DataFrame\n",
    "✅ I want to **create a new DataFrame variable** when I remove these duplicate values<br>\n",
    "✅ I want to again check if there are any duplicate rows within my DataFrame, to ensure the values were removed successfully"
   ]
  },
  {
   "cell_type": "code",
   "execution_count": 38,
   "metadata": {},
   "outputs": [],
   "source": [
    "dupes_removed_df = nonnull_dirty_cars_df.drop_duplicates()\n",
    "# print(dupes_removed_df)"
   ]
  },
  {
   "cell_type": "markdown",
   "metadata": {},
   "source": [
    "### As a Data Analyst, I want to ensure I remove any outlier values from my DataFrame to avoid inaccurate analysis of my data\n",
    "✅I want to **create a new DataFrame variable** when I remove these values<br><br>\n",
    "💡 **Hint:** These inaccuracies will be within the `price` column 💡<br><br>\n",
    "💡 **Hint** There will be both **high** and **low** outlier values 💡"
   ]
  },
  {
   "cell_type": "code",
   "execution_count": 37,
   "metadata": {},
   "outputs": [],
   "source": [
    "# Removing high outlier values\n",
    "find_outliers_df = dupes_removed_df.sort_values(\"price\")\n",
    "# print(find_outliers_df.to_string())\n",
    "\n",
    "high_outlier_removed = find_outliers_df.drop(labels=2)\n",
    "all_outliers_removed = high_outlier_removed.drop(labels=42)\n",
    "\n",
    "# print(all_outliers_removed.to_string())"
   ]
  },
  {
   "cell_type": "markdown",
   "metadata": {},
   "source": [
    "### As a Data Analyst, I want to reformat the **company** series, ensuring all company name values are properly title (Pascal) cased"
   ]
  },
  {
   "cell_type": "code",
   "execution_count": 36,
   "metadata": {},
   "outputs": [],
   "source": [
    "# renamed_df = all_outliers_removed.rename(columns={ \"company\": \"Company\"})\n",
    "# print(renamed_df.to_string())\n",
    "\n",
    "all_outliers_removed[\"company\"]= all_outliers_removed[\"company\"].str.title()\n",
    "# all_outliers_removed.to_string()"
   ]
  },
  {
   "cell_type": "markdown",
   "metadata": {},
   "source": [
    "### As a Data Analyst, I want to create a ***new*** column on my DataFrame to represent the **price of each car in Euros**\n",
    "💡 **Use the conversion rate 1.05 USD == 1 Euro** 💡"
   ]
  },
  {
   "cell_type": "code",
   "execution_count": 35,
   "metadata": {},
   "outputs": [],
   "source": [
    "all_outliers_removed[\"price in euros\"] = all_outliers_removed [\"price\"] * 1.05\n",
    "# all_outliers_removed"
   ]
  },
  {
   "cell_type": "markdown",
   "metadata": {},
   "source": [
    "### As a Data Analyst, I want to rename the existing **price** column to show that it represents **price in USD**"
   ]
  },
  {
   "cell_type": "code",
   "execution_count": 34,
   "metadata": {},
   "outputs": [],
   "source": [
    "updated_df = all_outliers_removed.rename(columns= {\"price\": \"price in USD\"})\n",
    "# updated_df"
   ]
  },
  {
   "cell_type": "markdown",
   "metadata": {},
   "source": [
    "### As a Data Analyst, I want to output my cleaned DataFrame as a .csv file\n",
    "✅ I want to name this file `cleaned_cars_dataset.csv`<br>\n",
    "✅ I want to specify the encoding type 'utf-8'<br>\n",
    "✅ I want to include this .csv file in my GitHub repository"
   ]
  },
  {
   "cell_type": "code",
   "execution_count": 39,
   "metadata": {},
   "outputs": [],
   "source": [
    "# cleaned_cars_dataset.csv = updated_df.to_csv\n",
    "updated_df.to_csv(\"cleaned_cars_dataset.csv\", encoding=\"utf-8\")"
   ]
  }
 ],
 "metadata": {
  "kernelspec": {
   "display_name": "Python 3",
   "language": "python",
   "name": "python3"
  },
  "language_info": {
   "codemirror_mode": {
    "name": "ipython",
    "version": 3
   },
   "file_extension": ".py",
   "mimetype": "text/x-python",
   "name": "python",
   "nbconvert_exporter": "python",
   "pygments_lexer": "ipython3",
   "version": "3.11.1"
  },
  "orig_nbformat": 4,
  "vscode": {
   "interpreter": {
    "hash": "449a19e61c7785d73827a85478759be1933430c49a3a03f014330ec51d6267cb"
   }
  }
 },
 "nbformat": 4,
 "nbformat_minor": 2
}
